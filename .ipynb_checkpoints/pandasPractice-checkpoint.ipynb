{
 "cells": [
  {
   "cell_type": "raw",
   "metadata": {},
   "source": [
    "* what is pandas\n",
    "    => Pandsa is open source open library written in python\n",
    "    => It leverages the power and speed of numpy to make analysis and processing easy for data scientists\n",
    "    => It provides rich and highly rebust data operatins\n",
    "* Pandas data structures\n",
    "    => Pandas has two types of data structure\n",
    "     1. Series - It is onde dimensional array with structure. It stores a single coloum or row of data in a DataFrame\n",
    "     2. Dataframe - It is a tabular spreadsheet like structure representing rows each of which one or multiple coloums\n",
    "* A one-dimensional array(labeled) capable of holding any type of data Series \n",
    "* A tow-dimensional data(labeled) structure with coloums of potentially different type of data - frame"
   ]
  },
  {
   "cell_type": "code",
   "execution_count": 2,
   "metadata": {},
   "outputs": [],
   "source": [
    "import numpy as np\n",
    "import pandas as pd"
   ]
  },
  {
   "cell_type": "code",
   "execution_count": 3,
   "metadata": {},
   "outputs": [],
   "source": [
    "dict1 = {\n",
    "    \"Students Name\":[\"Ajay Kumar\",\"Chandan Roy\",\"Manohar Suman\",\"Sumit Gupta\",\"Akash Anand\"],\n",
    "    \"Students Marks\":[60,70,80,90,100],\n",
    "    \"Students Cities\":[\"Darbhanga\",\"Patna\",\"Madhubani\",\"MujhaffarPUr\",\"Chapra\"]\n",
    "}"
   ]
  },
  {
   "cell_type": "code",
   "execution_count": 4,
   "metadata": {},
   "outputs": [],
   "source": [
    "df = pd.DataFrame(dict1)"
   ]
  },
  {
   "cell_type": "code",
   "execution_count": 5,
   "metadata": {},
   "outputs": [
    {
     "data": {
      "text/html": [
       "<div>\n",
       "<style scoped>\n",
       "    .dataframe tbody tr th:only-of-type {\n",
       "        vertical-align: middle;\n",
       "    }\n",
       "\n",
       "    .dataframe tbody tr th {\n",
       "        vertical-align: top;\n",
       "    }\n",
       "\n",
       "    .dataframe thead th {\n",
       "        text-align: right;\n",
       "    }\n",
       "</style>\n",
       "<table border=\"1\" class=\"dataframe\">\n",
       "  <thead>\n",
       "    <tr style=\"text-align: right;\">\n",
       "      <th></th>\n",
       "      <th>Students Name</th>\n",
       "      <th>Students Marks</th>\n",
       "      <th>Students Cities</th>\n",
       "    </tr>\n",
       "  </thead>\n",
       "  <tbody>\n",
       "    <tr>\n",
       "      <th>0</th>\n",
       "      <td>Ajay Kumar</td>\n",
       "      <td>60</td>\n",
       "      <td>Darbhanga</td>\n",
       "    </tr>\n",
       "    <tr>\n",
       "      <th>1</th>\n",
       "      <td>Chandan Roy</td>\n",
       "      <td>70</td>\n",
       "      <td>Patna</td>\n",
       "    </tr>\n",
       "    <tr>\n",
       "      <th>2</th>\n",
       "      <td>Manohar Suman</td>\n",
       "      <td>80</td>\n",
       "      <td>Madhubani</td>\n",
       "    </tr>\n",
       "    <tr>\n",
       "      <th>3</th>\n",
       "      <td>Sumit Gupta</td>\n",
       "      <td>90</td>\n",
       "      <td>MujhaffarPUr</td>\n",
       "    </tr>\n",
       "    <tr>\n",
       "      <th>4</th>\n",
       "      <td>Akash Anand</td>\n",
       "      <td>100</td>\n",
       "      <td>Chapra</td>\n",
       "    </tr>\n",
       "  </tbody>\n",
       "</table>\n",
       "</div>"
      ],
      "text/plain": [
       "   Students Name  Students Marks Students Cities\n",
       "0     Ajay Kumar              60       Darbhanga\n",
       "1    Chandan Roy              70           Patna\n",
       "2  Manohar Suman              80       Madhubani\n",
       "3    Sumit Gupta              90    MujhaffarPUr\n",
       "4    Akash Anand             100          Chapra"
      ]
     },
     "execution_count": 5,
     "metadata": {},
     "output_type": "execute_result"
    }
   ],
   "source": [
    "df"
   ]
  },
  {
   "cell_type": "code",
   "execution_count": 6,
   "metadata": {},
   "outputs": [],
   "source": [
    "df.to_csv('studentsDetails.csv') # It will convert the data in excel file with index"
   ]
  },
  {
   "cell_type": "code",
   "execution_count": 7,
   "metadata": {},
   "outputs": [],
   "source": [
    "df.to_csv('datalist.csv', index=False) # It will convert data set in excel sheet without index"
   ]
  },
  {
   "cell_type": "code",
   "execution_count": 8,
   "metadata": {},
   "outputs": [
    {
     "data": {
      "text/html": [
       "<div>\n",
       "<style scoped>\n",
       "    .dataframe tbody tr th:only-of-type {\n",
       "        vertical-align: middle;\n",
       "    }\n",
       "\n",
       "    .dataframe tbody tr th {\n",
       "        vertical-align: top;\n",
       "    }\n",
       "\n",
       "    .dataframe thead th {\n",
       "        text-align: right;\n",
       "    }\n",
       "</style>\n",
       "<table border=\"1\" class=\"dataframe\">\n",
       "  <thead>\n",
       "    <tr style=\"text-align: right;\">\n",
       "      <th></th>\n",
       "      <th>Students Name</th>\n",
       "      <th>Students Marks</th>\n",
       "      <th>Students Cities</th>\n",
       "    </tr>\n",
       "  </thead>\n",
       "  <tbody>\n",
       "    <tr>\n",
       "      <th>0</th>\n",
       "      <td>Ajay Kumar</td>\n",
       "      <td>60</td>\n",
       "      <td>Darbhanga</td>\n",
       "    </tr>\n",
       "    <tr>\n",
       "      <th>1</th>\n",
       "      <td>Chandan Roy</td>\n",
       "      <td>70</td>\n",
       "      <td>Patna</td>\n",
       "    </tr>\n",
       "  </tbody>\n",
       "</table>\n",
       "</div>"
      ],
      "text/plain": [
       "  Students Name  Students Marks Students Cities\n",
       "0    Ajay Kumar              60       Darbhanga\n",
       "1   Chandan Roy              70           Patna"
      ]
     },
     "execution_count": 8,
     "metadata": {},
     "output_type": "execute_result"
    }
   ],
   "source": [
    "df.head(2) # It will show the top 2 rows"
   ]
  },
  {
   "cell_type": "code",
   "execution_count": 9,
   "metadata": {},
   "outputs": [
    {
     "data": {
      "text/html": [
       "<div>\n",
       "<style scoped>\n",
       "    .dataframe tbody tr th:only-of-type {\n",
       "        vertical-align: middle;\n",
       "    }\n",
       "\n",
       "    .dataframe tbody tr th {\n",
       "        vertical-align: top;\n",
       "    }\n",
       "\n",
       "    .dataframe thead th {\n",
       "        text-align: right;\n",
       "    }\n",
       "</style>\n",
       "<table border=\"1\" class=\"dataframe\">\n",
       "  <thead>\n",
       "    <tr style=\"text-align: right;\">\n",
       "      <th></th>\n",
       "      <th>Students Name</th>\n",
       "      <th>Students Marks</th>\n",
       "      <th>Students Cities</th>\n",
       "    </tr>\n",
       "  </thead>\n",
       "  <tbody>\n",
       "    <tr>\n",
       "      <th>2</th>\n",
       "      <td>Manohar Suman</td>\n",
       "      <td>80</td>\n",
       "      <td>Madhubani</td>\n",
       "    </tr>\n",
       "    <tr>\n",
       "      <th>3</th>\n",
       "      <td>Sumit Gupta</td>\n",
       "      <td>90</td>\n",
       "      <td>MujhaffarPUr</td>\n",
       "    </tr>\n",
       "    <tr>\n",
       "      <th>4</th>\n",
       "      <td>Akash Anand</td>\n",
       "      <td>100</td>\n",
       "      <td>Chapra</td>\n",
       "    </tr>\n",
       "  </tbody>\n",
       "</table>\n",
       "</div>"
      ],
      "text/plain": [
       "   Students Name  Students Marks Students Cities\n",
       "2  Manohar Suman              80       Madhubani\n",
       "3    Sumit Gupta              90    MujhaffarPUr\n",
       "4    Akash Anand             100          Chapra"
      ]
     },
     "execution_count": 9,
     "metadata": {},
     "output_type": "execute_result"
    }
   ],
   "source": [
    "df.tail(3) # It will show bottom 3 rows"
   ]
  },
  {
   "cell_type": "code",
   "execution_count": 10,
   "metadata": {},
   "outputs": [
    {
     "data": {
      "text/html": [
       "<div>\n",
       "<style scoped>\n",
       "    .dataframe tbody tr th:only-of-type {\n",
       "        vertical-align: middle;\n",
       "    }\n",
       "\n",
       "    .dataframe tbody tr th {\n",
       "        vertical-align: top;\n",
       "    }\n",
       "\n",
       "    .dataframe thead th {\n",
       "        text-align: right;\n",
       "    }\n",
       "</style>\n",
       "<table border=\"1\" class=\"dataframe\">\n",
       "  <thead>\n",
       "    <tr style=\"text-align: right;\">\n",
       "      <th></th>\n",
       "      <th>Students Marks</th>\n",
       "    </tr>\n",
       "  </thead>\n",
       "  <tbody>\n",
       "    <tr>\n",
       "      <th>count</th>\n",
       "      <td>5.000000</td>\n",
       "    </tr>\n",
       "    <tr>\n",
       "      <th>mean</th>\n",
       "      <td>80.000000</td>\n",
       "    </tr>\n",
       "    <tr>\n",
       "      <th>std</th>\n",
       "      <td>15.811388</td>\n",
       "    </tr>\n",
       "    <tr>\n",
       "      <th>min</th>\n",
       "      <td>60.000000</td>\n",
       "    </tr>\n",
       "    <tr>\n",
       "      <th>25%</th>\n",
       "      <td>70.000000</td>\n",
       "    </tr>\n",
       "    <tr>\n",
       "      <th>50%</th>\n",
       "      <td>80.000000</td>\n",
       "    </tr>\n",
       "    <tr>\n",
       "      <th>75%</th>\n",
       "      <td>90.000000</td>\n",
       "    </tr>\n",
       "    <tr>\n",
       "      <th>max</th>\n",
       "      <td>100.000000</td>\n",
       "    </tr>\n",
       "  </tbody>\n",
       "</table>\n",
       "</div>"
      ],
      "text/plain": [
       "       Students Marks\n",
       "count        5.000000\n",
       "mean        80.000000\n",
       "std         15.811388\n",
       "min         60.000000\n",
       "25%         70.000000\n",
       "50%         80.000000\n",
       "75%         90.000000\n",
       "max        100.000000"
      ]
     },
     "execution_count": 10,
     "metadata": {},
     "output_type": "execute_result"
    }
   ],
   "source": [
    "df.describe() # It will return the list of numberical analysis"
   ]
  },
  {
   "cell_type": "code",
   "execution_count": 11,
   "metadata": {},
   "outputs": [],
   "source": [
    "Data = pd.read_csv('train.csv') # It will read all csv data "
   ]
  },
  {
   "cell_type": "code",
   "execution_count": 12,
   "metadata": {},
   "outputs": [
    {
     "data": {
      "text/html": [
       "<div>\n",
       "<style scoped>\n",
       "    .dataframe tbody tr th:only-of-type {\n",
       "        vertical-align: middle;\n",
       "    }\n",
       "\n",
       "    .dataframe tbody tr th {\n",
       "        vertical-align: top;\n",
       "    }\n",
       "\n",
       "    .dataframe thead th {\n",
       "        text-align: right;\n",
       "    }\n",
       "</style>\n",
       "<table border=\"1\" class=\"dataframe\">\n",
       "  <thead>\n",
       "    <tr style=\"text-align: right;\">\n",
       "      <th></th>\n",
       "      <th>Unnamed: 0</th>\n",
       "      <th>Train No</th>\n",
       "      <th>Speeds</th>\n",
       "      <th>Cities</th>\n",
       "    </tr>\n",
       "  </thead>\n",
       "  <tbody>\n",
       "    <tr>\n",
       "      <th>0</th>\n",
       "      <td>0</td>\n",
       "      <td>12560</td>\n",
       "      <td>199</td>\n",
       "      <td>Darbhanga</td>\n",
       "    </tr>\n",
       "    <tr>\n",
       "      <th>1</th>\n",
       "      <td>1</td>\n",
       "      <td>12630</td>\n",
       "      <td>70</td>\n",
       "      <td>Patna</td>\n",
       "    </tr>\n",
       "    <tr>\n",
       "      <th>2</th>\n",
       "      <td>2</td>\n",
       "      <td>12740</td>\n",
       "      <td>80</td>\n",
       "      <td>Madhubani</td>\n",
       "    </tr>\n",
       "    <tr>\n",
       "      <th>3</th>\n",
       "      <td>3</td>\n",
       "      <td>13555</td>\n",
       "      <td>90</td>\n",
       "      <td>MujhaffarPUr</td>\n",
       "    </tr>\n",
       "    <tr>\n",
       "      <th>4</th>\n",
       "      <td>4</td>\n",
       "      <td>18590</td>\n",
       "      <td>100</td>\n",
       "      <td>Chapra</td>\n",
       "    </tr>\n",
       "  </tbody>\n",
       "</table>\n",
       "</div>"
      ],
      "text/plain": [
       "   Unnamed: 0  Train No  Speeds       Cities \n",
       "0           0     12560     199     Darbhanga\n",
       "1           1     12630      70         Patna\n",
       "2           2     12740      80     Madhubani\n",
       "3           3     13555      90  MujhaffarPUr\n",
       "4           4     18590     100        Chapra"
      ]
     },
     "execution_count": 12,
     "metadata": {},
     "output_type": "execute_result"
    }
   ],
   "source": [
    "Data"
   ]
  },
  {
   "cell_type": "code",
   "execution_count": 13,
   "metadata": {},
   "outputs": [
    {
     "data": {
      "text/plain": [
       "0    199\n",
       "1     70\n",
       "2     80\n",
       "3     90\n",
       "4    100\n",
       "Name: Speeds, dtype: int64"
      ]
     },
     "execution_count": 13,
     "metadata": {},
     "output_type": "execute_result"
    }
   ],
   "source": [
    "Data['Speeds'] # It return all data of Speeds coloum"
   ]
  },
  {
   "cell_type": "code",
   "execution_count": 14,
   "metadata": {},
   "outputs": [
    {
     "data": {
      "text/plain": [
       "199"
      ]
     },
     "execution_count": 14,
     "metadata": {},
     "output_type": "execute_result"
    }
   ],
   "source": [
    "Data['Speeds'][0] # It return data of speeds of index 0th position"
   ]
  },
  {
   "cell_type": "code",
   "execution_count": 15,
   "metadata": {},
   "outputs": [
    {
     "name": "stderr",
     "output_type": "stream",
     "text": [
      "c:\\users\\ajay\\appdata\\local\\programs\\python\\python37\\lib\\site-packages\\ipykernel_launcher.py:1: SettingWithCopyWarning: \n",
      "A value is trying to be set on a copy of a slice from a DataFrame\n",
      "\n",
      "See the caveats in the documentation: https://pandas.pydata.org/pandas-docs/stable/user_guide/indexing.html#returning-a-view-versus-a-copy\n",
      "  \"\"\"Entry point for launching an IPython kernel.\n"
     ]
    }
   ],
   "source": [
    "Data['Speeds'][0] = 199"
   ]
  },
  {
   "cell_type": "code",
   "execution_count": 16,
   "metadata": {},
   "outputs": [
    {
     "data": {
      "text/html": [
       "<div>\n",
       "<style scoped>\n",
       "    .dataframe tbody tr th:only-of-type {\n",
       "        vertical-align: middle;\n",
       "    }\n",
       "\n",
       "    .dataframe tbody tr th {\n",
       "        vertical-align: top;\n",
       "    }\n",
       "\n",
       "    .dataframe thead th {\n",
       "        text-align: right;\n",
       "    }\n",
       "</style>\n",
       "<table border=\"1\" class=\"dataframe\">\n",
       "  <thead>\n",
       "    <tr style=\"text-align: right;\">\n",
       "      <th></th>\n",
       "      <th>Unnamed: 0</th>\n",
       "      <th>Train No</th>\n",
       "      <th>Speeds</th>\n",
       "      <th>Cities</th>\n",
       "    </tr>\n",
       "  </thead>\n",
       "  <tbody>\n",
       "    <tr>\n",
       "      <th>0</th>\n",
       "      <td>0</td>\n",
       "      <td>12560</td>\n",
       "      <td>199</td>\n",
       "      <td>Darbhanga</td>\n",
       "    </tr>\n",
       "    <tr>\n",
       "      <th>1</th>\n",
       "      <td>1</td>\n",
       "      <td>12630</td>\n",
       "      <td>70</td>\n",
       "      <td>Patna</td>\n",
       "    </tr>\n",
       "    <tr>\n",
       "      <th>2</th>\n",
       "      <td>2</td>\n",
       "      <td>12740</td>\n",
       "      <td>80</td>\n",
       "      <td>Madhubani</td>\n",
       "    </tr>\n",
       "    <tr>\n",
       "      <th>3</th>\n",
       "      <td>3</td>\n",
       "      <td>13555</td>\n",
       "      <td>90</td>\n",
       "      <td>MujhaffarPUr</td>\n",
       "    </tr>\n",
       "    <tr>\n",
       "      <th>4</th>\n",
       "      <td>4</td>\n",
       "      <td>18590</td>\n",
       "      <td>100</td>\n",
       "      <td>Chapra</td>\n",
       "    </tr>\n",
       "  </tbody>\n",
       "</table>\n",
       "</div>"
      ],
      "text/plain": [
       "   Unnamed: 0  Train No  Speeds       Cities \n",
       "0           0     12560     199     Darbhanga\n",
       "1           1     12630      70         Patna\n",
       "2           2     12740      80     Madhubani\n",
       "3           3     13555      90  MujhaffarPUr\n",
       "4           4     18590     100        Chapra"
      ]
     },
     "execution_count": 16,
     "metadata": {},
     "output_type": "execute_result"
    }
   ],
   "source": [
    "Data"
   ]
  },
  {
   "cell_type": "code",
   "execution_count": 17,
   "metadata": {},
   "outputs": [],
   "source": [
    "Data.to_csv('train.csv') # It will update the train csv file"
   ]
  },
  {
   "cell_type": "code",
   "execution_count": 18,
   "metadata": {},
   "outputs": [],
   "source": [
    "Data.index = [\"First\",\"Second\",\"Third\",\"Fourth\",\"Fifth\"] # It will update the index"
   ]
  },
  {
   "cell_type": "code",
   "execution_count": 19,
   "metadata": {},
   "outputs": [
    {
     "data": {
      "text/html": [
       "<div>\n",
       "<style scoped>\n",
       "    .dataframe tbody tr th:only-of-type {\n",
       "        vertical-align: middle;\n",
       "    }\n",
       "\n",
       "    .dataframe tbody tr th {\n",
       "        vertical-align: top;\n",
       "    }\n",
       "\n",
       "    .dataframe thead th {\n",
       "        text-align: right;\n",
       "    }\n",
       "</style>\n",
       "<table border=\"1\" class=\"dataframe\">\n",
       "  <thead>\n",
       "    <tr style=\"text-align: right;\">\n",
       "      <th></th>\n",
       "      <th>Unnamed: 0</th>\n",
       "      <th>Train No</th>\n",
       "      <th>Speeds</th>\n",
       "      <th>Cities</th>\n",
       "    </tr>\n",
       "  </thead>\n",
       "  <tbody>\n",
       "    <tr>\n",
       "      <th>First</th>\n",
       "      <td>0</td>\n",
       "      <td>12560</td>\n",
       "      <td>199</td>\n",
       "      <td>Darbhanga</td>\n",
       "    </tr>\n",
       "    <tr>\n",
       "      <th>Second</th>\n",
       "      <td>1</td>\n",
       "      <td>12630</td>\n",
       "      <td>70</td>\n",
       "      <td>Patna</td>\n",
       "    </tr>\n",
       "    <tr>\n",
       "      <th>Third</th>\n",
       "      <td>2</td>\n",
       "      <td>12740</td>\n",
       "      <td>80</td>\n",
       "      <td>Madhubani</td>\n",
       "    </tr>\n",
       "    <tr>\n",
       "      <th>Fourth</th>\n",
       "      <td>3</td>\n",
       "      <td>13555</td>\n",
       "      <td>90</td>\n",
       "      <td>MujhaffarPUr</td>\n",
       "    </tr>\n",
       "    <tr>\n",
       "      <th>Fifth</th>\n",
       "      <td>4</td>\n",
       "      <td>18590</td>\n",
       "      <td>100</td>\n",
       "      <td>Chapra</td>\n",
       "    </tr>\n",
       "  </tbody>\n",
       "</table>\n",
       "</div>"
      ],
      "text/plain": [
       "        Unnamed: 0  Train No  Speeds       Cities \n",
       "First            0     12560     199     Darbhanga\n",
       "Second           1     12630      70         Patna\n",
       "Third            2     12740      80     Madhubani\n",
       "Fourth           3     13555      90  MujhaffarPUr\n",
       "Fifth            4     18590     100        Chapra"
      ]
     },
     "execution_count": 19,
     "metadata": {},
     "output_type": "execute_result"
    }
   ],
   "source": [
    "Data"
   ]
  },
  {
   "cell_type": "code",
   "execution_count": 22,
   "metadata": {},
   "outputs": [],
   "source": [
    "ser = pd.Series(np.random.rand(35)) # It return series of random data"
   ]
  },
  {
   "cell_type": "code",
   "execution_count": 23,
   "metadata": {},
   "outputs": [
    {
     "data": {
      "text/plain": [
       "0     0.634814\n",
       "1     0.317508\n",
       "2     0.155295\n",
       "3     0.958682\n",
       "4     0.281028\n",
       "5     0.331235\n",
       "6     0.566813\n",
       "7     0.955102\n",
       "8     0.771051\n",
       "9     0.240946\n",
       "10    0.249710\n",
       "11    0.909943\n",
       "12    0.862831\n",
       "13    0.131374\n",
       "14    0.124464\n",
       "15    0.876426\n",
       "16    0.348954\n",
       "17    0.103529\n",
       "18    0.058237\n",
       "19    0.348674\n",
       "20    0.471036\n",
       "21    0.216948\n",
       "22    0.161342\n",
       "23    0.853991\n",
       "24    0.004345\n",
       "25    0.266319\n",
       "26    0.245937\n",
       "27    0.248658\n",
       "28    0.853139\n",
       "29    0.398664\n",
       "30    0.877086\n",
       "31    0.973501\n",
       "32    0.813273\n",
       "33    0.673393\n",
       "34    0.675039\n",
       "dtype: float64"
      ]
     },
     "execution_count": 23,
     "metadata": {},
     "output_type": "execute_result"
    }
   ],
   "source": [
    "ser"
   ]
  },
  {
   "cell_type": "code",
   "execution_count": 24,
   "metadata": {},
   "outputs": [
    {
     "data": {
      "text/plain": [
       "pandas.core.series.Series"
      ]
     },
     "execution_count": 24,
     "metadata": {},
     "output_type": "execute_result"
    }
   ],
   "source": [
    "type(ser)"
   ]
  },
  {
   "cell_type": "code",
   "execution_count": 26,
   "metadata": {},
   "outputs": [],
   "source": [
    "newDf = pd.DataFrame(np.random.rand(334,5), index = np.arange(334))"
   ]
  },
  {
   "cell_type": "code",
   "execution_count": 27,
   "metadata": {},
   "outputs": [
    {
     "data": {
      "text/html": [
       "<div>\n",
       "<style scoped>\n",
       "    .dataframe tbody tr th:only-of-type {\n",
       "        vertical-align: middle;\n",
       "    }\n",
       "\n",
       "    .dataframe tbody tr th {\n",
       "        vertical-align: top;\n",
       "    }\n",
       "\n",
       "    .dataframe thead th {\n",
       "        text-align: right;\n",
       "    }\n",
       "</style>\n",
       "<table border=\"1\" class=\"dataframe\">\n",
       "  <thead>\n",
       "    <tr style=\"text-align: right;\">\n",
       "      <th></th>\n",
       "      <th>0</th>\n",
       "      <th>1</th>\n",
       "      <th>2</th>\n",
       "      <th>3</th>\n",
       "      <th>4</th>\n",
       "    </tr>\n",
       "  </thead>\n",
       "  <tbody>\n",
       "    <tr>\n",
       "      <th>0</th>\n",
       "      <td>0.706315</td>\n",
       "      <td>0.588032</td>\n",
       "      <td>0.432754</td>\n",
       "      <td>0.539402</td>\n",
       "      <td>0.892342</td>\n",
       "    </tr>\n",
       "    <tr>\n",
       "      <th>1</th>\n",
       "      <td>0.477402</td>\n",
       "      <td>0.758813</td>\n",
       "      <td>0.159585</td>\n",
       "      <td>0.363634</td>\n",
       "      <td>0.187771</td>\n",
       "    </tr>\n",
       "    <tr>\n",
       "      <th>2</th>\n",
       "      <td>0.815983</td>\n",
       "      <td>0.037700</td>\n",
       "      <td>0.379325</td>\n",
       "      <td>0.485228</td>\n",
       "      <td>0.184567</td>\n",
       "    </tr>\n",
       "    <tr>\n",
       "      <th>3</th>\n",
       "      <td>0.983910</td>\n",
       "      <td>0.749917</td>\n",
       "      <td>0.165964</td>\n",
       "      <td>0.831872</td>\n",
       "      <td>0.506460</td>\n",
       "    </tr>\n",
       "    <tr>\n",
       "      <th>4</th>\n",
       "      <td>0.584249</td>\n",
       "      <td>0.459591</td>\n",
       "      <td>0.914059</td>\n",
       "      <td>0.184008</td>\n",
       "      <td>0.026480</td>\n",
       "    </tr>\n",
       "    <tr>\n",
       "      <th>...</th>\n",
       "      <td>...</td>\n",
       "      <td>...</td>\n",
       "      <td>...</td>\n",
       "      <td>...</td>\n",
       "      <td>...</td>\n",
       "    </tr>\n",
       "    <tr>\n",
       "      <th>329</th>\n",
       "      <td>0.602750</td>\n",
       "      <td>0.844224</td>\n",
       "      <td>0.784580</td>\n",
       "      <td>0.026749</td>\n",
       "      <td>0.863517</td>\n",
       "    </tr>\n",
       "    <tr>\n",
       "      <th>330</th>\n",
       "      <td>0.366629</td>\n",
       "      <td>0.242092</td>\n",
       "      <td>0.973807</td>\n",
       "      <td>0.879800</td>\n",
       "      <td>0.280263</td>\n",
       "    </tr>\n",
       "    <tr>\n",
       "      <th>331</th>\n",
       "      <td>0.234199</td>\n",
       "      <td>0.820342</td>\n",
       "      <td>0.533372</td>\n",
       "      <td>0.875768</td>\n",
       "      <td>0.674466</td>\n",
       "    </tr>\n",
       "    <tr>\n",
       "      <th>332</th>\n",
       "      <td>0.396188</td>\n",
       "      <td>0.959661</td>\n",
       "      <td>0.677742</td>\n",
       "      <td>0.071121</td>\n",
       "      <td>0.039465</td>\n",
       "    </tr>\n",
       "    <tr>\n",
       "      <th>333</th>\n",
       "      <td>0.018560</td>\n",
       "      <td>0.708743</td>\n",
       "      <td>0.705117</td>\n",
       "      <td>0.168268</td>\n",
       "      <td>0.692165</td>\n",
       "    </tr>\n",
       "  </tbody>\n",
       "</table>\n",
       "<p>334 rows × 5 columns</p>\n",
       "</div>"
      ],
      "text/plain": [
       "            0         1         2         3         4\n",
       "0    0.706315  0.588032  0.432754  0.539402  0.892342\n",
       "1    0.477402  0.758813  0.159585  0.363634  0.187771\n",
       "2    0.815983  0.037700  0.379325  0.485228  0.184567\n",
       "3    0.983910  0.749917  0.165964  0.831872  0.506460\n",
       "4    0.584249  0.459591  0.914059  0.184008  0.026480\n",
       "..        ...       ...       ...       ...       ...\n",
       "329  0.602750  0.844224  0.784580  0.026749  0.863517\n",
       "330  0.366629  0.242092  0.973807  0.879800  0.280263\n",
       "331  0.234199  0.820342  0.533372  0.875768  0.674466\n",
       "332  0.396188  0.959661  0.677742  0.071121  0.039465\n",
       "333  0.018560  0.708743  0.705117  0.168268  0.692165\n",
       "\n",
       "[334 rows x 5 columns]"
      ]
     },
     "execution_count": 27,
     "metadata": {},
     "output_type": "execute_result"
    }
   ],
   "source": [
    "newDf"
   ]
  },
  {
   "cell_type": "code",
   "execution_count": 28,
   "metadata": {},
   "outputs": [
    {
     "data": {
      "text/plain": [
       "pandas.core.frame.DataFrame"
      ]
     },
     "execution_count": 28,
     "metadata": {},
     "output_type": "execute_result"
    }
   ],
   "source": [
    "type(newDf)"
   ]
  },
  {
   "cell_type": "code",
   "execution_count": 29,
   "metadata": {},
   "outputs": [
    {
     "data": {
      "text/html": [
       "<div>\n",
       "<style scoped>\n",
       "    .dataframe tbody tr th:only-of-type {\n",
       "        vertical-align: middle;\n",
       "    }\n",
       "\n",
       "    .dataframe tbody tr th {\n",
       "        vertical-align: top;\n",
       "    }\n",
       "\n",
       "    .dataframe thead th {\n",
       "        text-align: right;\n",
       "    }\n",
       "</style>\n",
       "<table border=\"1\" class=\"dataframe\">\n",
       "  <thead>\n",
       "    <tr style=\"text-align: right;\">\n",
       "      <th></th>\n",
       "      <th>0</th>\n",
       "      <th>1</th>\n",
       "      <th>2</th>\n",
       "      <th>3</th>\n",
       "      <th>4</th>\n",
       "    </tr>\n",
       "  </thead>\n",
       "  <tbody>\n",
       "    <tr>\n",
       "      <th>count</th>\n",
       "      <td>334.000000</td>\n",
       "      <td>334.000000</td>\n",
       "      <td>334.000000</td>\n",
       "      <td>334.000000</td>\n",
       "      <td>334.000000</td>\n",
       "    </tr>\n",
       "    <tr>\n",
       "      <th>mean</th>\n",
       "      <td>0.495769</td>\n",
       "      <td>0.477574</td>\n",
       "      <td>0.465915</td>\n",
       "      <td>0.498966</td>\n",
       "      <td>0.478263</td>\n",
       "    </tr>\n",
       "    <tr>\n",
       "      <th>std</th>\n",
       "      <td>0.282948</td>\n",
       "      <td>0.297533</td>\n",
       "      <td>0.284435</td>\n",
       "      <td>0.293165</td>\n",
       "      <td>0.302101</td>\n",
       "    </tr>\n",
       "    <tr>\n",
       "      <th>min</th>\n",
       "      <td>0.000144</td>\n",
       "      <td>0.002289</td>\n",
       "      <td>0.001228</td>\n",
       "      <td>0.000146</td>\n",
       "      <td>0.000444</td>\n",
       "    </tr>\n",
       "    <tr>\n",
       "      <th>25%</th>\n",
       "      <td>0.264858</td>\n",
       "      <td>0.204502</td>\n",
       "      <td>0.203908</td>\n",
       "      <td>0.256914</td>\n",
       "      <td>0.220528</td>\n",
       "    </tr>\n",
       "    <tr>\n",
       "      <th>50%</th>\n",
       "      <td>0.497619</td>\n",
       "      <td>0.463340</td>\n",
       "      <td>0.434343</td>\n",
       "      <td>0.510177</td>\n",
       "      <td>0.438566</td>\n",
       "    </tr>\n",
       "    <tr>\n",
       "      <th>75%</th>\n",
       "      <td>0.730325</td>\n",
       "      <td>0.750780</td>\n",
       "      <td>0.726069</td>\n",
       "      <td>0.747982</td>\n",
       "      <td>0.752549</td>\n",
       "    </tr>\n",
       "    <tr>\n",
       "      <th>max</th>\n",
       "      <td>0.996188</td>\n",
       "      <td>0.997527</td>\n",
       "      <td>0.999699</td>\n",
       "      <td>0.997766</td>\n",
       "      <td>0.997383</td>\n",
       "    </tr>\n",
       "  </tbody>\n",
       "</table>\n",
       "</div>"
      ],
      "text/plain": [
       "                0           1           2           3           4\n",
       "count  334.000000  334.000000  334.000000  334.000000  334.000000\n",
       "mean     0.495769    0.477574    0.465915    0.498966    0.478263\n",
       "std      0.282948    0.297533    0.284435    0.293165    0.302101\n",
       "min      0.000144    0.002289    0.001228    0.000146    0.000444\n",
       "25%      0.264858    0.204502    0.203908    0.256914    0.220528\n",
       "50%      0.497619    0.463340    0.434343    0.510177    0.438566\n",
       "75%      0.730325    0.750780    0.726069    0.747982    0.752549\n",
       "max      0.996188    0.997527    0.999699    0.997766    0.997383"
      ]
     },
     "execution_count": 29,
     "metadata": {},
     "output_type": "execute_result"
    }
   ],
   "source": [
    "newDf.describe()"
   ]
  },
  {
   "cell_type": "code",
   "execution_count": null,
   "metadata": {},
   "outputs": [],
   "source": []
  }
 ],
 "metadata": {
  "kernelspec": {
   "display_name": "Python 3",
   "language": "python",
   "name": "python3"
  },
  "language_info": {
   "codemirror_mode": {
    "name": "ipython",
    "version": 3
   },
   "file_extension": ".py",
   "mimetype": "text/x-python",
   "name": "python",
   "nbconvert_exporter": "python",
   "pygments_lexer": "ipython3",
   "version": "3.7.4"
  }
 },
 "nbformat": 4,
 "nbformat_minor": 4
}
